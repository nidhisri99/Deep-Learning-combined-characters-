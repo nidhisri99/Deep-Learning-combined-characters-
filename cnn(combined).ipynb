{
  "nbformat": 4,
  "nbformat_minor": 0,
  "metadata": {
    "colab": {
      "name": "cnn(combined).ipynb",
      "provenance": [],
      "collapsed_sections": []
    },
    "kernelspec": {
      "name": "python3",
      "display_name": "Python 3"
    },
    "accelerator": "GPU"
  },
  "cells": [
    {
      "cell_type": "code",
      "metadata": {
        "id": "ohHS2L5xErHM",
        "colab_type": "code",
        "colab": {
          "base_uri": "https://localhost:8080/",
          "height": 52
        },
        "outputId": "35894896-840b-4fe9-a32e-dbf87e3fa274"
      },
      "source": [
        "import glob\n",
        "import cv2\n",
        "import matplotlib.pyplot as plt\n",
        "import numpy as np\n",
        "import os\n",
        "%tensorflow_version 1.x\n",
        "import pandas as pd\n",
        "import tensorflow as tf\n",
        "from keras import Model,optimizers\n",
        "from sklearn.metrics import accuracy_score"
      ],
      "execution_count": null,
      "outputs": [
        {
          "output_type": "stream",
          "text": [
            "TensorFlow 1.x selected.\n"
          ],
          "name": "stdout"
        },
        {
          "output_type": "stream",
          "text": [
            "Using TensorFlow backend.\n"
          ],
          "name": "stderr"
        }
      ]
    },
    {
      "cell_type": "code",
      "metadata": {
        "id": "7e5kSqMuE3SN",
        "colab_type": "code",
        "colab": {
          "base_uri": "https://localhost:8080/",
          "height": 34
        },
        "outputId": "6fe56445-9eef-4c4d-acf6-05be5dffa885"
      },
      "source": [
        "from google.colab import drive\n",
        "drive.mount('/content/drive')"
      ],
      "execution_count": null,
      "outputs": [
        {
          "output_type": "stream",
          "text": [
            "Drive already mounted at /content/drive; to attempt to forcibly remount, call drive.mount(\"/content/drive\", force_remount=True).\n"
          ],
          "name": "stdout"
        }
      ]
    },
    {
      "cell_type": "code",
      "metadata": {
        "id": "MXvDRwl4sLZP",
        "colab_type": "code",
        "colab": {}
      },
      "source": [
        "x=np.load('/content/drive/My Drive/kannadatogether/traindata.npy')\n",
        "labels=pd.read_csv('/content/drive/My Drive/kannadatogether/labels.csv',index_col=0)"
      ],
      "execution_count": null,
      "outputs": []
    },
    {
      "cell_type": "code",
      "metadata": {
        "id": "dd0fxZvh7LGJ",
        "colab_type": "code",
        "colab": {}
      },
      "source": [
        "y=labels.to_numpy()"
      ],
      "execution_count": null,
      "outputs": []
    },
    {
      "cell_type": "code",
      "metadata": {
        "id": "hX5B-9LAcEVI",
        "colab_type": "code",
        "colab": {
          "base_uri": "https://localhost:8080/",
          "height": 52
        },
        "outputId": "fb5e0aad-5b4e-4f1a-eb32-30ef6ce00b67"
      },
      "source": [
        "print(x.shape)\n",
        "print(y.shape)"
      ],
      "execution_count": null,
      "outputs": [
        {
          "output_type": "stream",
          "text": [
            "(19598, 150, 150, 1)\n",
            "(19598, 1)\n"
          ],
          "name": "stdout"
        }
      ]
    },
    {
      "cell_type": "code",
      "metadata": {
        "id": "15c247HrVzy1",
        "colab_type": "code",
        "colab": {}
      },
      "source": [
        "from sklearn.model_selection import train_test_split\n",
        "x_train,x_test,y_train,y_test=train_test_split(x,y,test_size=0.1,random_state=42)"
      ],
      "execution_count": null,
      "outputs": []
    },
    {
      "cell_type": "code",
      "metadata": {
        "id": "-tslXnHVUsHy",
        "colab_type": "code",
        "colab": {}
      },
      "source": [
        "x_train,x_val,y_train,y_val=train_test_split(x_train,y_train,test_size=0.1,random_state=42)"
      ],
      "execution_count": null,
      "outputs": []
    },
    {
      "cell_type": "code",
      "metadata": {
        "id": "8p1PYUmAE3oQ",
        "colab_type": "code",
        "colab": {
          "base_uri": "https://localhost:8080/",
          "height": 52
        },
        "outputId": "dbddad2e-8cf4-4a68-956e-fcf4c19ee504"
      },
      "source": [
        "from keras.utils import to_categorical\n",
        "y_train=to_categorical(y_train,47)\n",
        "y_test=to_categorical(y_test,47)\n",
        "print(y_train.shape)\n",
        "print(y_test.shape)"
      ],
      "execution_count": null,
      "outputs": [
        {
          "output_type": "stream",
          "text": [
            "(15874, 47)\n",
            "(1960, 47)\n"
          ],
          "name": "stdout"
        }
      ]
    },
    {
      "cell_type": "code",
      "metadata": {
        "id": "ZSpXme2McaeO",
        "colab_type": "code",
        "colab": {
          "base_uri": "https://localhost:8080/",
          "height": 87
        },
        "outputId": "ed551395-bb40-439a-8b8a-d138e539e14c"
      },
      "source": [
        "print(x_train.shape)\n",
        "print(x_test.shape)\n",
        "print(x_val.shape)\n",
        "y_val=to_categorical(y_val,47)\n",
        "print(y_val.shape)"
      ],
      "execution_count": null,
      "outputs": [
        {
          "output_type": "stream",
          "text": [
            "(15874, 150, 150, 1)\n",
            "(1960, 150, 150, 1)\n",
            "(1764, 150, 150, 1)\n",
            "(1764, 47)\n"
          ],
          "name": "stdout"
        }
      ]
    },
    {
      "cell_type": "code",
      "metadata": {
        "id": "JcL7RHPg5h9Q",
        "colab_type": "code",
        "colab": {}
      },
      "source": [
        "from keras.preprocessing.image import ImageDataGenerator\n",
        "imggen=ImageDataGenerator(rotation_range=10,width_shift_range=0.25,height_shift_range=0.25,shear_range=0.1,zoom_range=0.25)"
      ],
      "execution_count": null,
      "outputs": []
    },
    {
      "cell_type": "code",
      "metadata": {
        "id": "9i6NnJ3xyAdz",
        "colab_type": "code",
        "colab": {
          "base_uri": "https://localhost:8080/",
          "height": 34
        },
        "outputId": "6d5cf1da-68a0-4526-f55c-3fa910d268b8"
      },
      "source": [
        "\"\"\"from keras.backend import sigmoid\n",
        "def swish(x, beta = 1):\n",
        "    return (x * sigmoid(beta * x))\"\"\""
      ],
      "execution_count": null,
      "outputs": [
        {
          "output_type": "execute_result",
          "data": {
            "text/plain": [
              "'from keras.backend import sigmoid\\ndef swish(x, beta = 1):\\n    return (x * sigmoid(beta * x))'"
            ]
          },
          "metadata": {
            "tags": []
          },
          "execution_count": 11
        }
      ]
    },
    {
      "cell_type": "code",
      "metadata": {
        "id": "rM8YgN_byBYY",
        "colab_type": "code",
        "colab": {
          "base_uri": "https://localhost:8080/",
          "height": 34
        },
        "outputId": "f4ea3587-3ad2-4384-af07-fb4847af1357"
      },
      "source": [
        "\"\"\"from keras.utils.generic_utils import get_custom_objects\n",
        "from keras.layers import Activation\n",
        "get_custom_objects().update({'swish': Activation(swish)})\"\"\""
      ],
      "execution_count": null,
      "outputs": [
        {
          "output_type": "execute_result",
          "data": {
            "text/plain": [
              "\"from keras.utils.generic_utils import get_custom_objects\\nfrom keras.layers import Activation\\nget_custom_objects().update({'swish': Activation(swish)})\""
            ]
          },
          "metadata": {
            "tags": []
          },
          "execution_count": 12
        }
      ]
    },
    {
      "cell_type": "code",
      "metadata": {
        "id": "kjI44A1ZC_9z",
        "colab_type": "code",
        "colab": {}
      },
      "source": [
        "from sklearn.utils import shuffle\n",
        "x_train,y_train=shuffle(x_train,y_train)"
      ],
      "execution_count": null,
      "outputs": []
    },
    {
      "cell_type": "code",
      "metadata": {
        "id": "ym_55VSkE3q1",
        "colab_type": "code",
        "colab": {
          "base_uri": "https://localhost:8080/",
          "height": 125
        },
        "outputId": "94e87d69-27a7-4373-a134-5a0414a65415"
      },
      "source": [
        "from keras.models import Sequential\n",
        "from keras.layers import Activation,Dense,Conv2D,Dropout,Flatten,MaxPooling2D,BatchNormalization,AveragePooling2D,GlobalMaxPooling2D,ZeroPadding2D\n",
        "\n",
        "model=Sequential()\n",
        "\n",
        "#model.add(mainmodel)\n",
        "model.add(ZeroPadding2D(padding=(1,1),input_shape=(150,150,1)))\n",
        "model.add(Conv2D(filters=32,kernel_size=(3,3),input_shape=(150,150,1),padding='same',activation='relu'))  \n",
        "model.add(ZeroPadding2D(padding=(1,1)))\n",
        "model.add(Conv2D(filters=32,kernel_size=(3,3),padding='same',activation='relu'))\n",
        "model.add(MaxPooling2D(pool_size=(3,3)))\n",
        "model.add(Dropout(0.25))\n",
        "\n",
        "model.add(ZeroPadding2D(padding=(1,1)))\n",
        "model.add(Conv2D(filters=64,kernel_size=(3,3),padding='same',activation='relu'))  \n",
        "model.add(ZeroPadding2D(padding=(1,1)))\n",
        "model.add(Conv2D(filters=64,kernel_size=(3,3),padding='same',activation='relu'))\n",
        "#model.add(BatchNormalization(axis=1))\n",
        "model.add(MaxPooling2D(pool_size=(3,3)))\n",
        "model.add(Dropout(0.25))\n",
        "\n",
        "model.add(ZeroPadding2D(padding=(1,1)))\n",
        "model.add(Conv2D(filters=128,kernel_size=(3,3),padding='same',activation='relu'))\n",
        "model.add(ZeroPadding2D(padding=(1,1)))\n",
        "model.add(Conv2D(filters=128,kernel_size=(3,3),padding='same',activation='relu'))\n",
        "#model.add(BatchNormalization(axis=1))\n",
        "model.add(MaxPooling2D(pool_size=(3,3)))\n",
        "model.add(Dropout(0.25))\n",
        "\n",
        "model.add(ZeroPadding2D(padding=(1,1)))\n",
        "model.add(Conv2D(filters=256,kernel_size=(3,3),padding='same',activation='relu'))\n",
        "model.add(ZeroPadding2D(padding=(1,1)))\n",
        "model.add(Conv2D(filters=256,kernel_size=(3,3),padding='same',activation='relu'))\n",
        "#model.add(BatchNormalization(axis=1))\n",
        "model.add(MaxPooling2D((3,3))) #Same as Maxpool2D\n",
        "model.add(Dropout(0.25))\n",
        "\n",
        "\"\"\"\n",
        "model.add(Conv2D(filters=32,kernel_size=(5,5),input_shape=(130,130,1),activation='relu'))  \n",
        "model.add(MaxPooling2D(pool_size=(2,2)))\n",
        "\n",
        "model.add(Conv2D(filters=32,kernel_size=(3,3),padding='same',activation='relu'))  \n",
        "model.add(MaxPooling2D(pool_size=(2,2)))\n",
        "#model.add(Dropout(0.25))\n",
        "\n",
        "model.add(Conv2D(filters=64,kernel_size=(3,3),padding='same',activation='relu'))\n",
        "model.add(BatchNormalization(axis=1))\n",
        "model.add(MaxPooling2D(pool_size=(2,2)))\n",
        "\n",
        "model.add(Conv2D(filters=64,kernel_size=(3,3),padding='same',activation='relu'))\n",
        "model.add(MaxPooling2D(pool_size=(2,2))) #Same as Maxpool2D\n",
        "model.add(Dropout(0.25))\n",
        "\n",
        "model.add(Conv2D(filters=128,kernel_size=(3,3),padding='same',activation='relu'))\n",
        "model.add(BatchNormalization(axis=1))\n",
        "model.add(MaxPooling2D(pool_size=(2,2))) #Same as Maxpool2D\n",
        "\n",
        "model.add(Conv2D(filters=128,kernel_size=(3,3),padding='same',activation='relu'))\n",
        "model.add(BatchNormalization(axis=1))\n",
        "model.add(MaxPooling2D(pool_size=(2,2))) #Same as Maxpool2D\n",
        "\"\"\"\n",
        "\n",
        "\n",
        "model.add(Flatten())\n",
        "model.add(Dense(1024,activation='relu'))\n",
        "model.add(Dropout(0.5))\n",
        "#model.add(Dense(512,activation='relu'))\n",
        "#model.add(Dropout(0.5))\n",
        "model.add(Dense(47,activation='softmax'))"
      ],
      "execution_count": null,
      "outputs": [
        {
          "output_type": "stream",
          "text": [
            "WARNING:tensorflow:From /tensorflow-1.15.2/python3.6/tensorflow_core/python/ops/resource_variable_ops.py:1630: calling BaseResourceVariable.__init__ (from tensorflow.python.ops.resource_variable_ops) with constraint is deprecated and will be removed in a future version.\n",
            "Instructions for updating:\n",
            "If using Keras pass *_constraint arguments to layers.\n",
            "WARNING:tensorflow:From /usr/local/lib/python3.6/dist-packages/keras/backend/tensorflow_backend.py:4070: The name tf.nn.max_pool is deprecated. Please use tf.nn.max_pool2d instead.\n",
            "\n"
          ],
          "name": "stdout"
        }
      ]
    },
    {
      "cell_type": "code",
      "metadata": {
        "id": "efm3uDaRE3tu",
        "colab_type": "code",
        "colab": {
          "base_uri": "https://localhost:8080/",
          "height": 1000
        },
        "outputId": "b67a4329-b722-4eb3-9ed1-08647efb2ee6"
      },
      "source": [
        "model.compile(loss='categorical_crossentropy',optimizer=optimizers.Adam(lr=0.0001),metrics=['accuracy'])\n",
        "model.summary()"
      ],
      "execution_count": null,
      "outputs": [
        {
          "output_type": "stream",
          "text": [
            "Model: \"sequential_1\"\n",
            "_________________________________________________________________\n",
            "Layer (type)                 Output Shape              Param #   \n",
            "=================================================================\n",
            "zero_padding2d_1 (ZeroPaddin (None, 152, 152, 1)       0         \n",
            "_________________________________________________________________\n",
            "conv2d_1 (Conv2D)            (None, 152, 152, 32)      320       \n",
            "_________________________________________________________________\n",
            "zero_padding2d_2 (ZeroPaddin (None, 154, 154, 32)      0         \n",
            "_________________________________________________________________\n",
            "conv2d_2 (Conv2D)            (None, 154, 154, 32)      9248      \n",
            "_________________________________________________________________\n",
            "max_pooling2d_1 (MaxPooling2 (None, 51, 51, 32)        0         \n",
            "_________________________________________________________________\n",
            "dropout_1 (Dropout)          (None, 51, 51, 32)        0         \n",
            "_________________________________________________________________\n",
            "zero_padding2d_3 (ZeroPaddin (None, 53, 53, 32)        0         \n",
            "_________________________________________________________________\n",
            "conv2d_3 (Conv2D)            (None, 53, 53, 64)        18496     \n",
            "_________________________________________________________________\n",
            "zero_padding2d_4 (ZeroPaddin (None, 55, 55, 64)        0         \n",
            "_________________________________________________________________\n",
            "conv2d_4 (Conv2D)            (None, 55, 55, 64)        36928     \n",
            "_________________________________________________________________\n",
            "max_pooling2d_2 (MaxPooling2 (None, 18, 18, 64)        0         \n",
            "_________________________________________________________________\n",
            "dropout_2 (Dropout)          (None, 18, 18, 64)        0         \n",
            "_________________________________________________________________\n",
            "zero_padding2d_5 (ZeroPaddin (None, 20, 20, 64)        0         \n",
            "_________________________________________________________________\n",
            "conv2d_5 (Conv2D)            (None, 20, 20, 128)       73856     \n",
            "_________________________________________________________________\n",
            "zero_padding2d_6 (ZeroPaddin (None, 22, 22, 128)       0         \n",
            "_________________________________________________________________\n",
            "conv2d_6 (Conv2D)            (None, 22, 22, 128)       147584    \n",
            "_________________________________________________________________\n",
            "max_pooling2d_3 (MaxPooling2 (None, 7, 7, 128)         0         \n",
            "_________________________________________________________________\n",
            "dropout_3 (Dropout)          (None, 7, 7, 128)         0         \n",
            "_________________________________________________________________\n",
            "zero_padding2d_7 (ZeroPaddin (None, 9, 9, 128)         0         \n",
            "_________________________________________________________________\n",
            "conv2d_7 (Conv2D)            (None, 9, 9, 256)         295168    \n",
            "_________________________________________________________________\n",
            "zero_padding2d_8 (ZeroPaddin (None, 11, 11, 256)       0         \n",
            "_________________________________________________________________\n",
            "conv2d_8 (Conv2D)            (None, 11, 11, 256)       590080    \n",
            "_________________________________________________________________\n",
            "max_pooling2d_4 (MaxPooling2 (None, 3, 3, 256)         0         \n",
            "_________________________________________________________________\n",
            "dropout_4 (Dropout)          (None, 3, 3, 256)         0         \n",
            "_________________________________________________________________\n",
            "flatten_1 (Flatten)          (None, 2304)              0         \n",
            "_________________________________________________________________\n",
            "dense_1 (Dense)              (None, 1024)              2360320   \n",
            "_________________________________________________________________\n",
            "dropout_5 (Dropout)          (None, 1024)              0         \n",
            "_________________________________________________________________\n",
            "dense_2 (Dense)              (None, 47)                48175     \n",
            "=================================================================\n",
            "Total params: 3,580,175\n",
            "Trainable params: 3,580,175\n",
            "Non-trainable params: 0\n",
            "_________________________________________________________________\n"
          ],
          "name": "stdout"
        }
      ]
    },
    {
      "cell_type": "code",
      "metadata": {
        "id": "rO_2kyJ1GFkl",
        "colab_type": "code",
        "colab": {
          "base_uri": "https://localhost:8080/",
          "height": 1000
        },
        "outputId": "e587e292-a236-4a4b-fa06-d6c08e0faedf"
      },
      "source": [
        "history=model.fit_generator(imggen.flow(x_train,y_train,batch_size=64),epochs=100,validation_data=imggen.flow(x_val,y_val,batch_size=64)) "
      ],
      "execution_count": null,
      "outputs": [
        {
          "output_type": "stream",
          "text": [
            "WARNING:tensorflow:From /usr/local/lib/python3.6/dist-packages/keras/backend/tensorflow_backend.py:422: The name tf.global_variables is deprecated. Please use tf.compat.v1.global_variables instead.\n",
            "\n",
            "Epoch 1/100\n",
            "249/249 [==============================] - 59s 236ms/step - loss: 3.8509 - accuracy: 0.0203 - val_loss: 3.8521 - val_accuracy: 0.0232\n",
            "Epoch 2/100\n",
            "249/249 [==============================] - 51s 206ms/step - loss: 3.8503 - accuracy: 0.0200 - val_loss: 3.8516 - val_accuracy: 0.0198\n",
            "Epoch 3/100\n",
            "249/249 [==============================] - 51s 206ms/step - loss: 3.8502 - accuracy: 0.0218 - val_loss: 3.8492 - val_accuracy: 0.0198\n",
            "Epoch 4/100\n",
            "249/249 [==============================] - 51s 206ms/step - loss: 3.8502 - accuracy: 0.0222 - val_loss: 3.8507 - val_accuracy: 0.0198\n",
            "Epoch 5/100\n",
            "249/249 [==============================] - 51s 206ms/step - loss: 3.8501 - accuracy: 0.0224 - val_loss: 3.8535 - val_accuracy: 0.0198\n",
            "Epoch 6/100\n",
            "249/249 [==============================] - 51s 206ms/step - loss: 3.8501 - accuracy: 0.0230 - val_loss: 3.8528 - val_accuracy: 0.0198\n",
            "Epoch 7/100\n",
            "249/249 [==============================] - 51s 206ms/step - loss: 3.8503 - accuracy: 0.0222 - val_loss: 3.8496 - val_accuracy: 0.0198\n",
            "Epoch 8/100\n",
            "249/249 [==============================] - 51s 206ms/step - loss: 3.8450 - accuracy: 0.0227 - val_loss: 3.8533 - val_accuracy: 0.0232\n",
            "Epoch 9/100\n",
            "249/249 [==============================] - 51s 206ms/step - loss: 3.8274 - accuracy: 0.0290 - val_loss: 3.4777 - val_accuracy: 0.0493\n",
            "Epoch 10/100\n",
            "249/249 [==============================] - 51s 206ms/step - loss: 3.4560 - accuracy: 0.0765 - val_loss: 3.1268 - val_accuracy: 0.1474\n",
            "Epoch 11/100\n",
            "249/249 [==============================] - 51s 206ms/step - loss: 2.8936 - accuracy: 0.1666 - val_loss: 2.2240 - val_accuracy: 0.3090\n",
            "Epoch 12/100\n",
            "249/249 [==============================] - 51s 206ms/step - loss: 2.4949 - accuracy: 0.2510 - val_loss: 2.0925 - val_accuracy: 0.4121\n",
            "Epoch 13/100\n",
            "249/249 [==============================] - 51s 205ms/step - loss: 2.1969 - accuracy: 0.3335 - val_loss: 1.7499 - val_accuracy: 0.4348\n",
            "Epoch 14/100\n",
            "249/249 [==============================] - 51s 205ms/step - loss: 2.0020 - accuracy: 0.3865 - val_loss: 1.6065 - val_accuracy: 0.4983\n",
            "Epoch 15/100\n",
            "249/249 [==============================] - 51s 205ms/step - loss: 1.8245 - accuracy: 0.4347 - val_loss: 1.4328 - val_accuracy: 0.5788\n",
            "Epoch 16/100\n",
            "249/249 [==============================] - 51s 205ms/step - loss: 1.6754 - accuracy: 0.4840 - val_loss: 1.2013 - val_accuracy: 0.5930\n",
            "Epoch 17/100\n",
            "249/249 [==============================] - 51s 206ms/step - loss: 1.5546 - accuracy: 0.5139 - val_loss: 1.7704 - val_accuracy: 0.4643\n",
            "Epoch 18/100\n",
            "249/249 [==============================] - 51s 206ms/step - loss: 1.4685 - accuracy: 0.5428 - val_loss: 1.4989 - val_accuracy: 0.6746\n",
            "Epoch 19/100\n",
            "249/249 [==============================] - 51s 205ms/step - loss: 1.3350 - accuracy: 0.5804 - val_loss: 0.8168 - val_accuracy: 0.7069\n",
            "Epoch 20/100\n",
            "249/249 [==============================] - 51s 205ms/step - loss: 1.2710 - accuracy: 0.6030 - val_loss: 0.9437 - val_accuracy: 0.7358\n",
            "Epoch 21/100\n",
            "249/249 [==============================] - 51s 205ms/step - loss: 1.2009 - accuracy: 0.6235 - val_loss: 0.8162 - val_accuracy: 0.7455\n",
            "Epoch 22/100\n",
            "249/249 [==============================] - 51s 206ms/step - loss: 1.1272 - accuracy: 0.6502 - val_loss: 0.6855 - val_accuracy: 0.7466\n",
            "Epoch 23/100\n",
            "249/249 [==============================] - 51s 205ms/step - loss: 1.0791 - accuracy: 0.6628 - val_loss: 0.5868 - val_accuracy: 0.7874\n",
            "Epoch 24/100\n",
            "249/249 [==============================] - 51s 205ms/step - loss: 1.0196 - accuracy: 0.6836 - val_loss: 0.7863 - val_accuracy: 0.7738\n",
            "Epoch 25/100\n",
            "249/249 [==============================] - 51s 205ms/step - loss: 0.9843 - accuracy: 0.6892 - val_loss: 0.5745 - val_accuracy: 0.7925\n",
            "Epoch 26/100\n",
            "249/249 [==============================] - 51s 206ms/step - loss: 0.9475 - accuracy: 0.7035 - val_loss: 0.6777 - val_accuracy: 0.7925\n",
            "Epoch 27/100\n",
            "249/249 [==============================] - 51s 205ms/step - loss: 0.9408 - accuracy: 0.7085 - val_loss: 0.6018 - val_accuracy: 0.8090\n",
            "Epoch 28/100\n",
            "249/249 [==============================] - 51s 205ms/step - loss: 0.8670 - accuracy: 0.7303 - val_loss: 0.5684 - val_accuracy: 0.8265\n",
            "Epoch 29/100\n",
            "249/249 [==============================] - 51s 205ms/step - loss: 0.8454 - accuracy: 0.7369 - val_loss: 1.0082 - val_accuracy: 0.8124\n",
            "Epoch 30/100\n",
            "249/249 [==============================] - 51s 205ms/step - loss: 0.8241 - accuracy: 0.7459 - val_loss: 0.4436 - val_accuracy: 0.8152\n",
            "Epoch 31/100\n",
            "249/249 [==============================] - 51s 205ms/step - loss: 0.7865 - accuracy: 0.7559 - val_loss: 0.5205 - val_accuracy: 0.8180\n",
            "Epoch 32/100\n",
            "249/249 [==============================] - 51s 205ms/step - loss: 0.7714 - accuracy: 0.7592 - val_loss: 0.3859 - val_accuracy: 0.8350\n",
            "Epoch 33/100\n",
            "249/249 [==============================] - 51s 205ms/step - loss: 0.7374 - accuracy: 0.7721 - val_loss: 0.5652 - val_accuracy: 0.8390\n",
            "Epoch 34/100\n",
            "249/249 [==============================] - 51s 205ms/step - loss: 0.7361 - accuracy: 0.7721 - val_loss: 0.3448 - val_accuracy: 0.8458\n",
            "Epoch 35/100\n",
            "249/249 [==============================] - 51s 205ms/step - loss: 0.6926 - accuracy: 0.7861 - val_loss: 0.3679 - val_accuracy: 0.8628\n",
            "Epoch 36/100\n",
            "249/249 [==============================] - 51s 205ms/step - loss: 0.6955 - accuracy: 0.7848 - val_loss: 0.5075 - val_accuracy: 0.8447\n",
            "Epoch 37/100\n",
            "249/249 [==============================] - 51s 205ms/step - loss: 0.6678 - accuracy: 0.7942 - val_loss: 0.9122 - val_accuracy: 0.8345\n",
            "Epoch 38/100\n",
            "249/249 [==============================] - 51s 205ms/step - loss: 0.6453 - accuracy: 0.8014 - val_loss: 0.1568 - val_accuracy: 0.8549\n",
            "Epoch 39/100\n",
            "249/249 [==============================] - 51s 206ms/step - loss: 0.6299 - accuracy: 0.8078 - val_loss: 0.4629 - val_accuracy: 0.8492\n",
            "Epoch 40/100\n",
            "249/249 [==============================] - 51s 205ms/step - loss: 0.6207 - accuracy: 0.8075 - val_loss: 0.3144 - val_accuracy: 0.8611\n",
            "Epoch 41/100\n",
            "249/249 [==============================] - 51s 205ms/step - loss: 0.6052 - accuracy: 0.8148 - val_loss: 0.4444 - val_accuracy: 0.8707\n",
            "Epoch 42/100\n",
            "249/249 [==============================] - 51s 206ms/step - loss: 0.5784 - accuracy: 0.8220 - val_loss: 0.3991 - val_accuracy: 0.8668\n",
            "Epoch 43/100\n",
            "249/249 [==============================] - 51s 206ms/step - loss: 0.5743 - accuracy: 0.8248 - val_loss: 0.4679 - val_accuracy: 0.8838\n",
            "Epoch 44/100\n",
            "249/249 [==============================] - 51s 206ms/step - loss: 0.5634 - accuracy: 0.8281 - val_loss: 0.3399 - val_accuracy: 0.8747\n",
            "Epoch 45/100\n",
            "249/249 [==============================] - 51s 205ms/step - loss: 0.5605 - accuracy: 0.8272 - val_loss: 0.6588 - val_accuracy: 0.8759\n",
            "Epoch 46/100\n",
            "249/249 [==============================] - 51s 205ms/step - loss: 0.5605 - accuracy: 0.8279 - val_loss: 0.4388 - val_accuracy: 0.8759\n",
            "Epoch 47/100\n",
            "249/249 [==============================] - 51s 206ms/step - loss: 0.5482 - accuracy: 0.8377 - val_loss: 0.7836 - val_accuracy: 0.8770\n",
            "Epoch 48/100\n",
            "249/249 [==============================] - 51s 206ms/step - loss: 0.5268 - accuracy: 0.8339 - val_loss: 0.4662 - val_accuracy: 0.8787\n",
            "Epoch 49/100\n",
            "249/249 [==============================] - 51s 205ms/step - loss: 0.5317 - accuracy: 0.8365 - val_loss: 0.3291 - val_accuracy: 0.8753\n",
            "Epoch 50/100\n",
            "249/249 [==============================] - 51s 205ms/step - loss: 0.5088 - accuracy: 0.8477 - val_loss: 0.6463 - val_accuracy: 0.8849\n",
            "Epoch 51/100\n",
            "249/249 [==============================] - 51s 205ms/step - loss: 0.5078 - accuracy: 0.8426 - val_loss: 0.3789 - val_accuracy: 0.8883\n",
            "Epoch 52/100\n",
            "249/249 [==============================] - 51s 205ms/step - loss: 0.4993 - accuracy: 0.8465 - val_loss: 0.3458 - val_accuracy: 0.8923\n",
            "Epoch 53/100\n",
            "249/249 [==============================] - 51s 205ms/step - loss: 0.4770 - accuracy: 0.8525 - val_loss: 0.1339 - val_accuracy: 0.8946\n",
            "Epoch 54/100\n",
            "249/249 [==============================] - 51s 205ms/step - loss: 0.4600 - accuracy: 0.8576 - val_loss: 0.7459 - val_accuracy: 0.8951\n",
            "Epoch 55/100\n",
            "249/249 [==============================] - 51s 205ms/step - loss: 0.4676 - accuracy: 0.8566 - val_loss: 0.2850 - val_accuracy: 0.9087\n",
            "Epoch 56/100\n",
            "249/249 [==============================] - 51s 205ms/step - loss: 0.4561 - accuracy: 0.8609 - val_loss: 0.2483 - val_accuracy: 0.9116\n",
            "Epoch 57/100\n",
            "249/249 [==============================] - 51s 205ms/step - loss: 0.4444 - accuracy: 0.8664 - val_loss: 0.2444 - val_accuracy: 0.9042\n",
            "Epoch 58/100\n",
            "249/249 [==============================] - 51s 205ms/step - loss: 0.4396 - accuracy: 0.8640 - val_loss: 0.3156 - val_accuracy: 0.8832\n",
            "Epoch 59/100\n",
            "249/249 [==============================] - 51s 205ms/step - loss: 0.4529 - accuracy: 0.8639 - val_loss: 0.3998 - val_accuracy: 0.9031\n",
            "Epoch 60/100\n",
            "249/249 [==============================] - 51s 205ms/step - loss: 0.4344 - accuracy: 0.8712 - val_loss: 0.3029 - val_accuracy: 0.9116\n",
            "Epoch 61/100\n",
            "249/249 [==============================] - 51s 205ms/step - loss: 0.4129 - accuracy: 0.8727 - val_loss: 0.3143 - val_accuracy: 0.9070\n",
            "Epoch 62/100\n",
            "249/249 [==============================] - 51s 205ms/step - loss: 0.4195 - accuracy: 0.8734 - val_loss: 0.2466 - val_accuracy: 0.9042\n",
            "Epoch 63/100\n",
            "249/249 [==============================] - 51s 205ms/step - loss: 0.4158 - accuracy: 0.8727 - val_loss: 0.2181 - val_accuracy: 0.9014\n",
            "Epoch 64/100\n",
            "249/249 [==============================] - 51s 205ms/step - loss: 0.4009 - accuracy: 0.8770 - val_loss: 0.3180 - val_accuracy: 0.9150\n",
            "Epoch 65/100\n",
            "249/249 [==============================] - 51s 205ms/step - loss: 0.3957 - accuracy: 0.8796 - val_loss: 0.1914 - val_accuracy: 0.9144\n",
            "Epoch 66/100\n",
            "249/249 [==============================] - 51s 205ms/step - loss: 0.3931 - accuracy: 0.8818 - val_loss: 0.1974 - val_accuracy: 0.9138\n",
            "Epoch 67/100\n",
            "249/249 [==============================] - 51s 205ms/step - loss: 0.3865 - accuracy: 0.8811 - val_loss: 0.4624 - val_accuracy: 0.9025\n",
            "Epoch 68/100\n",
            "249/249 [==============================] - 51s 205ms/step - loss: 0.3788 - accuracy: 0.8849 - val_loss: 0.2304 - val_accuracy: 0.9076\n",
            "Epoch 69/100\n",
            "249/249 [==============================] - 51s 205ms/step - loss: 0.3695 - accuracy: 0.8870 - val_loss: 0.1666 - val_accuracy: 0.9257\n",
            "Epoch 70/100\n",
            "249/249 [==============================] - 51s 205ms/step - loss: 0.3758 - accuracy: 0.8862 - val_loss: 0.1216 - val_accuracy: 0.9172\n",
            "Epoch 71/100\n",
            "249/249 [==============================] - 51s 205ms/step - loss: 0.3732 - accuracy: 0.8878 - val_loss: 0.1912 - val_accuracy: 0.9127\n",
            "Epoch 72/100\n",
            "249/249 [==============================] - 51s 205ms/step - loss: 0.3623 - accuracy: 0.8898 - val_loss: 0.0245 - val_accuracy: 0.9127\n",
            "Epoch 73/100\n",
            "249/249 [==============================] - 51s 205ms/step - loss: 0.3491 - accuracy: 0.8953 - val_loss: 0.2074 - val_accuracy: 0.9246\n",
            "Epoch 74/100\n",
            "249/249 [==============================] - 51s 204ms/step - loss: 0.3733 - accuracy: 0.8867 - val_loss: 0.1340 - val_accuracy: 0.9127\n",
            "Epoch 75/100\n",
            "249/249 [==============================] - 51s 205ms/step - loss: 0.3480 - accuracy: 0.8939 - val_loss: 0.5107 - val_accuracy: 0.9195\n",
            "Epoch 76/100\n",
            "249/249 [==============================] - 51s 205ms/step - loss: 0.3527 - accuracy: 0.8921 - val_loss: 0.2116 - val_accuracy: 0.9342\n",
            "Epoch 77/100\n",
            "249/249 [==============================] - 51s 205ms/step - loss: 0.3348 - accuracy: 0.8974 - val_loss: 0.4494 - val_accuracy: 0.9235\n",
            "Epoch 78/100\n",
            "249/249 [==============================] - 51s 205ms/step - loss: 0.3463 - accuracy: 0.8949 - val_loss: 0.5506 - val_accuracy: 0.9303\n",
            "Epoch 79/100\n",
            "249/249 [==============================] - 51s 205ms/step - loss: 0.3314 - accuracy: 0.9037 - val_loss: 0.2744 - val_accuracy: 0.9229\n",
            "Epoch 80/100\n",
            "249/249 [==============================] - 51s 205ms/step - loss: 0.3317 - accuracy: 0.8992 - val_loss: 0.6147 - val_accuracy: 0.9252\n",
            "Epoch 81/100\n",
            "249/249 [==============================] - 51s 205ms/step - loss: 0.3178 - accuracy: 0.9034 - val_loss: 0.4546 - val_accuracy: 0.9274\n",
            "Epoch 82/100\n",
            "249/249 [==============================] - 51s 205ms/step - loss: 0.3565 - accuracy: 0.8981 - val_loss: 0.2012 - val_accuracy: 0.9269\n",
            "Epoch 83/100\n",
            "249/249 [==============================] - 51s 204ms/step - loss: 0.3210 - accuracy: 0.9017 - val_loss: 0.2925 - val_accuracy: 0.9297\n",
            "Epoch 84/100\n",
            "249/249 [==============================] - 51s 205ms/step - loss: 0.3279 - accuracy: 0.9038 - val_loss: 0.2479 - val_accuracy: 0.9235\n",
            "Epoch 85/100\n",
            "249/249 [==============================] - 51s 205ms/step - loss: 0.3122 - accuracy: 0.9041 - val_loss: 0.1377 - val_accuracy: 0.9297\n",
            "Epoch 86/100\n",
            "249/249 [==============================] - 51s 205ms/step - loss: 0.3104 - accuracy: 0.9064 - val_loss: 0.1848 - val_accuracy: 0.9331\n",
            "Epoch 87/100\n",
            "249/249 [==============================] - 51s 205ms/step - loss: 0.3027 - accuracy: 0.9070 - val_loss: 0.1648 - val_accuracy: 0.9297\n",
            "Epoch 88/100\n",
            "249/249 [==============================] - 51s 205ms/step - loss: 0.2948 - accuracy: 0.9133 - val_loss: 0.2430 - val_accuracy: 0.9274\n",
            "Epoch 89/100\n",
            "249/249 [==============================] - 51s 205ms/step - loss: 0.2913 - accuracy: 0.9142 - val_loss: 0.3484 - val_accuracy: 0.9235\n",
            "Epoch 90/100\n",
            "249/249 [==============================] - 51s 204ms/step - loss: 0.2943 - accuracy: 0.9126 - val_loss: 0.2604 - val_accuracy: 0.9257\n",
            "Epoch 91/100\n",
            "249/249 [==============================] - 51s 205ms/step - loss: 0.2861 - accuracy: 0.9132 - val_loss: 0.4064 - val_accuracy: 0.9325\n",
            "Epoch 92/100\n",
            "249/249 [==============================] - 51s 205ms/step - loss: 0.2807 - accuracy: 0.9172 - val_loss: 0.1627 - val_accuracy: 0.9325\n",
            "Epoch 93/100\n",
            "249/249 [==============================] - 51s 205ms/step - loss: 0.2919 - accuracy: 0.9156 - val_loss: 0.1535 - val_accuracy: 0.9320\n",
            "Epoch 94/100\n",
            "249/249 [==============================] - 51s 205ms/step - loss: 0.2840 - accuracy: 0.9150 - val_loss: 0.2565 - val_accuracy: 0.9444\n",
            "Epoch 95/100\n",
            "249/249 [==============================] - 51s 205ms/step - loss: 0.2850 - accuracy: 0.9144 - val_loss: 0.5611 - val_accuracy: 0.9325\n",
            "Epoch 96/100\n",
            "249/249 [==============================] - 51s 205ms/step - loss: 0.2768 - accuracy: 0.9175 - val_loss: 0.0423 - val_accuracy: 0.9342\n",
            "Epoch 97/100\n",
            "249/249 [==============================] - 51s 204ms/step - loss: 0.2758 - accuracy: 0.9166 - val_loss: 0.2399 - val_accuracy: 0.9303\n",
            "Epoch 98/100\n",
            "249/249 [==============================] - 51s 205ms/step - loss: 0.2744 - accuracy: 0.9156 - val_loss: 0.4443 - val_accuracy: 0.9138\n",
            "Epoch 99/100\n",
            "249/249 [==============================] - 51s 205ms/step - loss: 0.2750 - accuracy: 0.9170 - val_loss: 0.3087 - val_accuracy: 0.9314\n",
            "Epoch 100/100\n",
            "249/249 [==============================] - 51s 205ms/step - loss: 0.2652 - accuracy: 0.9188 - val_loss: 0.1267 - val_accuracy: 0.9393\n"
          ],
          "name": "stdout"
        }
      ]
    },
    {
      "cell_type": "code",
      "metadata": {
        "id": "jDfO3KyHd4KM",
        "colab_type": "code",
        "colab": {
          "base_uri": "https://localhost:8080/",
          "height": 294
        },
        "outputId": "f3e69996-6c5a-4118-ab20-8c9d3264377d"
      },
      "source": [
        "plt.plot(history.history['accuracy'])\n",
        "plt.plot(history.history['val_accuracy'])\n",
        "plt.title('model accuracy')\n",
        "plt.ylabel('accuracy')\n",
        "plt.xlabel('epoch')\n",
        "plt.legend(['train', 'val'], loc='upper left')\n",
        "plt.show()"
      ],
      "execution_count": null,
      "outputs": [
        {
          "output_type": "display_data",
          "data": {
            "image/png": "[encoded data removed]",
            "text/plain": [
              "<Figure size 432x288 with 1 Axes>"
            ]
          },
          "metadata": {
            "tags": [],
            "needs_background": "light"
          }
        }
      ]
    },
    {
      "cell_type": "code",
      "metadata": {
        "id": "mK4xQ6bLd5SQ",
        "colab_type": "code",
        "colab": {
          "base_uri": "https://localhost:8080/",
          "height": 294
        },
        "outputId": "d41acb6e-7c3e-4ef1-d304-f02824ae5550"
      },
      "source": [
        "plt.plot(history.history['loss'])\n",
        "plt.plot(history.history['val_loss'])\n",
        "plt.title('model loss')\n",
        "plt.ylabel('loss')\n",
        "plt.xlabel('epoch')\n",
        "plt.legend(['train', 'val'], loc='upper left')\n",
        "plt.show()"
      ],
      "execution_count": null,
      "outputs": [
        {
          "output_type": "display_data",
          "data": {
            "image/png": "[encoded data removed]",
            "text/plain": [
              "<Figure size 432x288 with 1 Axes>"
            ]
          },
          "metadata": {
            "tags": [],
            "needs_background": "light"
          }
        }
      ]
    },
    {
      "cell_type": "code",
      "metadata": {
        "id": "C3EbfV4MGFn7",
        "colab_type": "code",
        "colab": {}
      },
      "source": [
        "model.save('/content/drive/My Drive/kannadacombinedmain100epochs.h5')"
      ],
      "execution_count": null,
      "outputs": []
    },
    {
      "cell_type": "code",
      "metadata": {
        "id": "Tf4cddxbLo0_",
        "colab_type": "code",
        "colab": {}
      },
      "source": [
        "#model.save_weights('/content/drive/My Drive/model files/kannadacombined_weights96.58.h5')"
      ],
      "execution_count": null,
      "outputs": []
    },
    {
      "cell_type": "code",
      "metadata": {
        "id": "KUDIXLi21NUy",
        "colab_type": "code",
        "colab": {}
      },
      "source": [
        "#from keras.models import load_model\n",
        "#model=load_model('/content/drive/My Drive/model files/kannadacombined96.58.h5')"
      ],
      "execution_count": null,
      "outputs": []
    },
    {
      "cell_type": "code",
      "metadata": {
        "id": "h-xocAmugmSu",
        "colab_type": "code",
        "colab": {
          "base_uri": "https://localhost:8080/",
          "height": 52
        },
        "outputId": "2d6a4270-4105-4cc1-86d8-91d14d68e424"
      },
      "source": [
        "#model.evaluate(x_test,y_test)"
      ],
      "execution_count": null,
      "outputs": [
        {
          "output_type": "stream",
          "text": [
            "1960/1960 [==============================] - 3s 2ms/step\n"
          ],
          "name": "stdout"
        },
        {
          "output_type": "execute_result",
          "data": {
            "text/plain": [
              "[0.16155156212649782, 0.9627550840377808]"
            ]
          },
          "metadata": {
            "tags": []
          },
          "execution_count": 22
        }
      ]
    },
    {
      "cell_type": "code",
      "metadata": {
        "id": "wkL6hxYIbOJK",
        "colab_type": "code",
        "colab": {}
      },
      "source": [
        "from sklearn.metrics import classification_report,confusion_matrix"
      ],
      "execution_count": null,
      "outputs": []
    },
    {
      "cell_type": "code",
      "metadata": {
        "id": "0Mtq1pP5bOTP",
        "colab_type": "code",
        "colab": {}
      },
      "source": [
        "#y_pred=model.predict(x_test)"
      ],
      "execution_count": null,
      "outputs": []
    },
    {
      "cell_type": "code",
      "metadata": {
        "id": "mH7HoSWlb1Pi",
        "colab_type": "code",
        "colab": {}
      },
      "source": [
        "print(y_pred.shape)"
      ],
      "execution_count": null,
      "outputs": []
    },
    {
      "cell_type": "code",
      "metadata": {
        "id": "6Ig-tYtWGFrO",
        "colab_type": "code",
        "colab": {}
      },
      "source": [
        "layer_name='dense_1'\n",
        "layer_model=Model(inputs=model.input,outputs=model.get_layer(layer_name).output)"
      ],
      "execution_count": null,
      "outputs": []
    },
    {
      "cell_type": "code",
      "metadata": {
        "id": "c0IfVhuwG2-e",
        "colab_type": "code",
        "colab": {}
      },
      "source": [
        "fc=layer_model.predict(x_train)\n",
        "print(fc.shape)"
      ],
      "execution_count": null,
      "outputs": []
    },
    {
      "cell_type": "code",
      "metadata": {
        "id": "XVpDFsNDG3El",
        "colab_type": "code",
        "colab": {}
      },
      "source": [
        "#np.save('/content/drive/My Drive/kannadatogether/featurestraincombined',train_features)\n",
        "#np.save('/content/drive/My Drive/kannadatogether/featurestestcombined',test_features)"
      ],
      "execution_count": null,
      "outputs": []
    },
    {
      "cell_type": "code",
      "metadata": {
        "id": "UpiBydNZG3Is",
        "colab_type": "code",
        "colab": {}
      },
      "source": [
        "feature_col=[]\n",
        "for i in range(1024):\n",
        "  feature_col.append(\"f_\"+str(i))"
      ],
      "execution_count": null,
      "outputs": []
    },
    {
      "cell_type": "code",
      "metadata": {
        "id": "jfG9GW4VG_sf",
        "colab_type": "code",
        "colab": {}
      },
      "source": [
        "train_features=pd.DataFrame(data=fc,columns=feature_col)\n",
        "feature_col=np.array(feature_col)"
      ],
      "execution_count": null,
      "outputs": []
    },
    {
      "cell_type": "code",
      "metadata": {
        "id": "dRTdqWtTedrL",
        "colab_type": "code",
        "colab": {}
      },
      "source": [
        "y_train.shape"
      ],
      "execution_count": null,
      "outputs": []
    },
    {
      "cell_type": "code",
      "metadata": {
        "id": "GCsMXZ_wd3La",
        "colab_type": "code",
        "colab": {}
      },
      "source": [
        "#y_train1=np.load('/content/drive/My Drive/kannadatogether/y_train1.npy')\n",
        "#y_test1=np.load('/content/drive/My Drive/kannadatogether/ytest1.npy')"
      ],
      "execution_count": null,
      "outputs": []
    },
    {
      "cell_type": "code",
      "metadata": {
        "id": "oZs0YnYPgcia",
        "colab_type": "code",
        "colab": {}
      },
      "source": [
        "y_test1=np.squeeze(y_test1,axis=1)\n",
        "y_train1=np.squeeze(y_train1,axis=1)"
      ],
      "execution_count": null,
      "outputs": []
    },
    {
      "cell_type": "code",
      "metadata": {
        "id": "82GisoVze6NA",
        "colab_type": "code",
        "colab": {}
      },
      "source": [
        "print(y_train1.shape)\n",
        "print(y_test1.shape)"
      ],
      "execution_count": null,
      "outputs": []
    },
    {
      "cell_type": "code",
      "metadata": {
        "id": "e7czVvhKG_wx",
        "colab_type": "code",
        "colab": {}
      },
      "source": [
        "from sklearn.ensemble import RandomForestClassifier\n",
        "rf=RandomForestClassifier(n_estimators=5000,min_samples_split=8,max_features=12)\n",
        "rf.fit(train_features,y_train)"
      ],
      "execution_count": null,
      "outputs": []
    },
    {
      "cell_type": "code",
      "metadata": {
        "id": "VVkD4Km6c49n",
        "colab_type": "code",
        "colab": {}
      },
      "source": [
        "from sklearn.svm import SVC\n",
        "clf=SVC(degree=4,C=2.5,gamma='auto',kernel='rbf',decision_function_shape='ovo')\n",
        "clf.fit(train_features,y_train1)"
      ],
      "execution_count": null,
      "outputs": []
    },
    {
      "cell_type": "code",
      "metadata": {
        "id": "oSrw-mCJfMqH",
        "colab_type": "code",
        "colab": {}
      },
      "source": [
        "from sklearn.neighbors import KNeighborsClassifier\n",
        "k=KNeighborsClassifier(n_neighbors=20)\n",
        "k.fit(train_features,y_train1)"
      ],
      "execution_count": null,
      "outputs": []
    },
    {
      "cell_type": "code",
      "metadata": {
        "id": "YDtIcmbzG_0H",
        "colab_type": "code",
        "colab": {}
      },
      "source": [
        "testfeatures=[]\n",
        "testfeatures.append(layer_model.predict(x_test))\n",
        "testfeatures=np.array(testfeatures) "
      ],
      "execution_count": null,
      "outputs": []
    },
    {
      "cell_type": "code",
      "metadata": {
        "id": "MoRibugdf0if",
        "colab_type": "code",
        "colab": {}
      },
      "source": [
        "testfeatures=np.squeeze(testfeatures,axis=0)"
      ],
      "execution_count": null,
      "outputs": []
    },
    {
      "cell_type": "code",
      "metadata": {
        "id": "BCIctwDPf8zf",
        "colab_type": "code",
        "colab": {}
      },
      "source": [
        "testfeatures.shape"
      ],
      "execution_count": null,
      "outputs": []
    },
    {
      "cell_type": "code",
      "metadata": {
        "id": "7axjnvg-G_3e",
        "colab_type": "code",
        "colab": {}
      },
      "source": [
        "test_features=pd.DataFrame(data=testfeatures,columns=feature_col)\n",
        "feature_col=np.array(feature_col)"
      ],
      "execution_count": null,
      "outputs": []
    },
    {
      "cell_type": "code",
      "metadata": {
        "id": "9tv_W6qmE3Zo",
        "colab_type": "code",
        "colab": {}
      },
      "source": [
        "#pred=clf.predict(test_features)"
      ],
      "execution_count": null,
      "outputs": []
    },
    {
      "cell_type": "code",
      "metadata": {
        "id": "oZgZP9JaHNPB",
        "colab_type": "code",
        "colab": {}
      },
      "source": [
        "#acc=clf.score(test_features,y_test1)\n",
        "#print(acc)"
      ],
      "execution_count": null,
      "outputs": []
    },
    {
      "cell_type": "code",
      "metadata": {
        "id": "WKLYCiPO8MLU",
        "colab_type": "code",
        "colab": {}
      },
      "source": [
        "#p=k.predict(test_features)"
      ],
      "execution_count": null,
      "outputs": []
    },
    {
      "cell_type": "code",
      "metadata": {
        "id": "qvisY33o9aI6",
        "colab_type": "code",
        "colab": {}
      },
      "source": [
        "#accuracy=accuracy_score(y_test1,p)\n",
        "#print(accuracy)"
      ],
      "execution_count": null,
      "outputs": []
    },
    {
      "cell_type": "code",
      "metadata": {
        "id": "Nu2VyPrT8X7m",
        "colab_type": "code",
        "colab": {}
      },
      "source": [
        "print(accuracy)"
      ],
      "execution_count": null,
      "outputs": []
    },
    {
      "cell_type": "code",
      "metadata": {
        "id": "ufT0Rz8eHNTE",
        "colab_type": "code",
        "colab": {}
      },
      "source": [
        "print(acc)"
      ],
      "execution_count": null,
      "outputs": []
    },
    {
      "cell_type": "code",
      "metadata": {
        "id": "CZsvUrtrA7Nl",
        "colab_type": "code",
        "colab": {}
      },
      "source": [
        "#pr=rf.score(test_features,y_test)\n",
        "#print(pr)"
      ],
      "execution_count": null,
      "outputs": []
    },
    {
      "cell_type": "code",
      "metadata": {
        "id": "U2WG6vbqHNWX",
        "colab_type": "code",
        "colab": {}
      },
      "source": [
        "#print(pred.shape)"
      ],
      "execution_count": null,
      "outputs": []
    },
    {
      "cell_type": "code",
      "metadata": {
        "id": "kgTIb4X8HNLR",
        "colab_type": "code",
        "colab": {}
      },
      "source": [
        "#ac=accuracy_score(y_test,pred)"
      ],
      "execution_count": null,
      "outputs": []
    },
    {
      "cell_type": "code",
      "metadata": {
        "id": "i1QxGqqhW6KD",
        "colab_type": "code",
        "colab": {}
      },
      "source": [
        "\n",
        "labels = list(map(lambda x: 'C' + str(x), list(range(1,48)))) # change this accordingly for vowels\n",
        "from sklearn.metrics import classification_report\n",
        "print(classification_report(y_test1, pred, target_names=labels))"
      ],
      "execution_count": null,
      "outputs": []
    },
    {
      "cell_type": "code",
      "metadata": {
        "id": "LaGLvgW4yalz",
        "colab_type": "code",
        "colab": {}
      },
      "source": [
        "from sklearn.metrics import f1_score,recall_score,precision_score,confusion_matrix\n",
        "print(f1_score(yt,y_pred,average='macro'))"
      ],
      "execution_count": null,
      "outputs": []
    },
    {
      "cell_type": "code",
      "metadata": {
        "id": "z-vxSbvuya2Z",
        "colab_type": "code",
        "colab": {}
      },
      "source": [
        "print(f1_score(y_test1,y_pred,average='micro'))"
      ],
      "execution_count": null,
      "outputs": []
    },
    {
      "cell_type": "code",
      "metadata": {
        "id": "GsiF-Ix1ya6M",
        "colab_type": "code",
        "colab": {}
      },
      "source": [
        "print(recall_score(yt,y_pred,average='macro'))"
      ],
      "execution_count": null,
      "outputs": []
    },
    {
      "cell_type": "code",
      "metadata": {
        "id": "L16ebFgcya_i",
        "colab_type": "code",
        "colab": {}
      },
      "source": [
        "print(recall_score(yt,y_pred,average='micro'))"
      ],
      "execution_count": null,
      "outputs": []
    },
    {
      "cell_type": "code",
      "metadata": {
        "id": "oQJoRgklybFr",
        "colab_type": "code",
        "colab": {}
      },
      "source": [
        "print(precision_score(yt,y_pred,average='macro'))"
      ],
      "execution_count": null,
      "outputs": []
    },
    {
      "cell_type": "code",
      "metadata": {
        "id": "hUbhgTBMybMD",
        "colab_type": "code",
        "colab": {}
      },
      "source": [
        "print(precision_score(yt,y_pred,average='micro'))"
      ],
      "execution_count": null,
      "outputs": []
    },
    {
      "cell_type": "code",
      "metadata": {
        "id": "VdJFrRCoybQM",
        "colab_type": "code",
        "colab": {}
      },
      "source": [
        "y_pred=np.argmax(y_pred,axis=1)\n",
        "print(confusion_matrix(y_test1,y_pred))"
      ],
      "execution_count": null,
      "outputs": []
    },
    {
      "cell_type": "code",
      "metadata": {
        "id": "UYHm8fiSyb6L",
        "colab_type": "code",
        "colab": {}
      },
      "source": [
        ""
      ],
      "execution_count": null,
      "outputs": []
    },
    {
      "cell_type": "code",
      "metadata": {
        "id": "MM1T_gbPyb9x",
        "colab_type": "code",
        "colab": {}
      },
      "source": [
        ""
      ],
      "execution_count": null,
      "outputs": []
    },
    {
      "cell_type": "code",
      "metadata": {
        "id": "35o7sjESybJP",
        "colab_type": "code",
        "colab": {}
      },
      "source": [
        ""
      ],
      "execution_count": null,
      "outputs": []
    },
    {
      "cell_type": "code",
      "metadata": {
        "id": "pnqTdL4mybDr",
        "colab_type": "code",
        "colab": {}
      },
      "source": [
        ""
      ],
      "execution_count": null,
      "outputs": []
    },
    {
      "cell_type": "code",
      "metadata": {
        "id": "JzlTloO8ya9D",
        "colab_type": "code",
        "colab": {}
      },
      "source": [
        ""
      ],
      "execution_count": null,
      "outputs": []
    }
  ]
}